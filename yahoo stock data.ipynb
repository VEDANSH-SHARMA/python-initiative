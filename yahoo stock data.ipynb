{
 "cells": [
  {
   "cell_type": "code",
   "execution_count": 1,
   "id": "dcaebc8a",
   "metadata": {},
   "outputs": [
    {
     "name": "stdout",
     "output_type": "stream",
     "text": [
      "Collecting yfinance\n",
      "  Downloading yfinance-0.2.9-py2.py3-none-any.whl (55 kB)\n",
      "     ---------------------------------------- 55.9/55.9 kB 3.0 MB/s eta 0:00:00\n",
      "Collecting frozendict>=2.3.4\n",
      "  Downloading frozendict-2.3.4-cp39-cp39-win_amd64.whl (35 kB)\n",
      "Requirement already satisfied: appdirs>=1.4.4 in c:\\users\\vedan\\anaconda3\\lib\\site-packages (from yfinance) (1.4.4)\n",
      "Collecting multitasking>=0.0.7\n",
      "  Downloading multitasking-0.0.11-py3-none-any.whl (8.5 kB)\n",
      "Requirement already satisfied: requests>=2.26 in c:\\users\\vedan\\anaconda3\\lib\\site-packages (from yfinance) (2.28.1)\n",
      "Requirement already satisfied: beautifulsoup4>=4.11.1 in c:\\users\\vedan\\anaconda3\\lib\\site-packages (from yfinance) (4.11.1)\n",
      "Collecting pytz>=2022.5\n",
      "  Downloading pytz-2022.7.1-py2.py3-none-any.whl (499 kB)\n",
      "     ------------------------------------- 499.4/499.4 kB 15.8 MB/s eta 0:00:00\n",
      "Requirement already satisfied: pandas>=1.3.0 in c:\\users\\vedan\\anaconda3\\lib\\site-packages (from yfinance) (1.4.4)\n",
      "Requirement already satisfied: cryptography>=3.3.2 in c:\\users\\vedan\\anaconda3\\lib\\site-packages (from yfinance) (37.0.1)\n",
      "Collecting html5lib>=1.1\n",
      "  Downloading html5lib-1.1-py2.py3-none-any.whl (112 kB)\n",
      "     ---------------------------------------- 112.2/112.2 kB ? eta 0:00:00\n",
      "Requirement already satisfied: lxml>=4.9.1 in c:\\users\\vedan\\anaconda3\\lib\\site-packages (from yfinance) (4.9.1)\n",
      "Requirement already satisfied: numpy>=1.16.5 in c:\\users\\vedan\\anaconda3\\lib\\site-packages (from yfinance) (1.21.5)\n",
      "Requirement already satisfied: soupsieve>1.2 in c:\\users\\vedan\\anaconda3\\lib\\site-packages (from beautifulsoup4>=4.11.1->yfinance) (2.3.1)\n",
      "Requirement already satisfied: cffi>=1.12 in c:\\users\\vedan\\anaconda3\\lib\\site-packages (from cryptography>=3.3.2->yfinance) (1.15.1)\n",
      "Requirement already satisfied: webencodings in c:\\users\\vedan\\anaconda3\\lib\\site-packages (from html5lib>=1.1->yfinance) (0.5.1)\n",
      "Requirement already satisfied: six>=1.9 in c:\\users\\vedan\\anaconda3\\lib\\site-packages (from html5lib>=1.1->yfinance) (1.16.0)\n",
      "Requirement already satisfied: python-dateutil>=2.8.1 in c:\\users\\vedan\\anaconda3\\lib\\site-packages (from pandas>=1.3.0->yfinance) (2.8.2)\n",
      "Requirement already satisfied: charset-normalizer<3,>=2 in c:\\users\\vedan\\anaconda3\\lib\\site-packages (from requests>=2.26->yfinance) (2.0.4)\n",
      "Requirement already satisfied: idna<4,>=2.5 in c:\\users\\vedan\\anaconda3\\lib\\site-packages (from requests>=2.26->yfinance) (3.3)\n",
      "Requirement already satisfied: certifi>=2017.4.17 in c:\\users\\vedan\\anaconda3\\lib\\site-packages (from requests>=2.26->yfinance) (2022.9.14)\n",
      "Requirement already satisfied: urllib3<1.27,>=1.21.1 in c:\\users\\vedan\\anaconda3\\lib\\site-packages (from requests>=2.26->yfinance) (1.26.11)\n",
      "Requirement already satisfied: pycparser in c:\\users\\vedan\\anaconda3\\lib\\site-packages (from cffi>=1.12->cryptography>=3.3.2->yfinance) (2.21)\n",
      "Installing collected packages: pytz, multitasking, html5lib, frozendict, yfinance\n",
      "  Attempting uninstall: pytz\n",
      "    Found existing installation: pytz 2022.1\n",
      "    Uninstalling pytz-2022.1:\n",
      "      Successfully uninstalled pytz-2022.1\n",
      "Successfully installed frozendict-2.3.4 html5lib-1.1 multitasking-0.0.11 pytz-2022.7.1 yfinance-0.2.9\n",
      "Note: you may need to restart the kernel to use updated packages.\n"
     ]
    },
    {
     "name": "stderr",
     "output_type": "stream",
     "text": [
      "ERROR: pip's dependency resolver does not currently take into account all the packages that are installed. This behaviour is the source of the following dependency conflicts.\n",
      "conda-repo-cli 1.0.20 requires clyent==1.2.1, but you have clyent 1.2.2 which is incompatible.\n",
      "conda-repo-cli 1.0.20 requires nbformat==5.4.0, but you have nbformat 5.5.0 which is incompatible.\n"
     ]
    }
   ],
   "source": [
    "pip install yfinance"
   ]
  },
  {
   "cell_type": "code",
   "execution_count": 3,
   "id": "9c3731af",
   "metadata": {},
   "outputs": [
    {
     "name": "stdout",
     "output_type": "stream",
     "text": [
      "Collecting pandas_datareader\n",
      "  Downloading pandas_datareader-0.10.0-py3-none-any.whl (109 kB)\n",
      "     -------------------------------------- 109.5/109.5 kB 3.1 MB/s eta 0:00:00\n",
      "Requirement already satisfied: requests>=2.19.0 in c:\\users\\vedan\\anaconda3\\lib\\site-packages (from pandas_datareader) (2.28.1)\n",
      "Requirement already satisfied: lxml in c:\\users\\vedan\\anaconda3\\lib\\site-packages (from pandas_datareader) (4.9.1)\n",
      "Requirement already satisfied: pandas>=0.23 in c:\\users\\vedan\\anaconda3\\lib\\site-packages (from pandas_datareader) (1.4.4)\n",
      "Requirement already satisfied: pytz>=2020.1 in c:\\users\\vedan\\anaconda3\\lib\\site-packages (from pandas>=0.23->pandas_datareader) (2022.7.1)\n",
      "Requirement already satisfied: python-dateutil>=2.8.1 in c:\\users\\vedan\\anaconda3\\lib\\site-packages (from pandas>=0.23->pandas_datareader) (2.8.2)\n",
      "Requirement already satisfied: numpy>=1.18.5 in c:\\users\\vedan\\anaconda3\\lib\\site-packages (from pandas>=0.23->pandas_datareader) (1.21.5)\n",
      "Requirement already satisfied: certifi>=2017.4.17 in c:\\users\\vedan\\anaconda3\\lib\\site-packages (from requests>=2.19.0->pandas_datareader) (2022.9.14)\n",
      "Requirement already satisfied: charset-normalizer<3,>=2 in c:\\users\\vedan\\anaconda3\\lib\\site-packages (from requests>=2.19.0->pandas_datareader) (2.0.4)\n",
      "Requirement already satisfied: urllib3<1.27,>=1.21.1 in c:\\users\\vedan\\anaconda3\\lib\\site-packages (from requests>=2.19.0->pandas_datareader) (1.26.11)\n",
      "Requirement already satisfied: idna<4,>=2.5 in c:\\users\\vedan\\anaconda3\\lib\\site-packages (from requests>=2.19.0->pandas_datareader) (3.3)\n",
      "Requirement already satisfied: six>=1.5 in c:\\users\\vedan\\anaconda3\\lib\\site-packages (from python-dateutil>=2.8.1->pandas>=0.23->pandas_datareader) (1.16.0)\n",
      "Installing collected packages: pandas_datareader\n",
      "Successfully installed pandas_datareader-0.10.0\n",
      "Note: you may need to restart the kernel to use updated packages.\n"
     ]
    }
   ],
   "source": [
    "pip install pandas_datareader"
   ]
  },
  {
   "cell_type": "code",
   "execution_count": 4,
   "id": "9df1dc01",
   "metadata": {},
   "outputs": [],
   "source": [
    "import pandas_datareader.data as pdr\n",
    "import yfinance as yf"
   ]
  },
  {
   "cell_type": "code",
   "execution_count": 5,
   "id": "cf261bd3",
   "metadata": {},
   "outputs": [],
   "source": [
    "yf.pdr_override()"
   ]
  },
  {
   "cell_type": "code",
   "execution_count": 6,
   "id": "26b02d6d",
   "metadata": {},
   "outputs": [],
   "source": [
    "from datetime import datetime"
   ]
  },
  {
   "cell_type": "code",
   "execution_count": 7,
   "id": "81f02c0c",
   "metadata": {},
   "outputs": [
    {
     "name": "stdout",
     "output_type": "stream",
     "text": [
      "[*********************100%***********************]  1 of 1 completed\n"
     ]
    }
   ],
   "source": [
    "data = pdr.get_data_yahoo('^GSPC', datetime(1970, 1, 1))"
   ]
  },
  {
   "cell_type": "code",
   "execution_count": 8,
   "id": "7f45495e",
   "metadata": {},
   "outputs": [
    {
     "data": {
      "text/html": [
       "<div>\n",
       "<style scoped>\n",
       "    .dataframe tbody tr th:only-of-type {\n",
       "        vertical-align: middle;\n",
       "    }\n",
       "\n",
       "    .dataframe tbody tr th {\n",
       "        vertical-align: top;\n",
       "    }\n",
       "\n",
       "    .dataframe thead th {\n",
       "        text-align: right;\n",
       "    }\n",
       "</style>\n",
       "<table border=\"1\" class=\"dataframe\">\n",
       "  <thead>\n",
       "    <tr style=\"text-align: right;\">\n",
       "      <th></th>\n",
       "      <th>Open</th>\n",
       "      <th>High</th>\n",
       "      <th>Low</th>\n",
       "      <th>Close</th>\n",
       "      <th>Adj Close</th>\n",
       "      <th>Volume</th>\n",
       "    </tr>\n",
       "    <tr>\n",
       "      <th>Date</th>\n",
       "      <th></th>\n",
       "      <th></th>\n",
       "      <th></th>\n",
       "      <th></th>\n",
       "      <th></th>\n",
       "      <th></th>\n",
       "    </tr>\n",
       "  </thead>\n",
       "  <tbody>\n",
       "    <tr>\n",
       "      <th>1970-01-02 00:00:00-05:00</th>\n",
       "      <td>0.000000</td>\n",
       "      <td>93.540001</td>\n",
       "      <td>91.790001</td>\n",
       "      <td>93.000000</td>\n",
       "      <td>93.000000</td>\n",
       "      <td>8050000</td>\n",
       "    </tr>\n",
       "    <tr>\n",
       "      <th>1970-01-05 00:00:00-05:00</th>\n",
       "      <td>0.000000</td>\n",
       "      <td>94.250000</td>\n",
       "      <td>92.529999</td>\n",
       "      <td>93.459999</td>\n",
       "      <td>93.459999</td>\n",
       "      <td>11490000</td>\n",
       "    </tr>\n",
       "    <tr>\n",
       "      <th>1970-01-06 00:00:00-05:00</th>\n",
       "      <td>0.000000</td>\n",
       "      <td>93.809998</td>\n",
       "      <td>92.129997</td>\n",
       "      <td>92.820000</td>\n",
       "      <td>92.820000</td>\n",
       "      <td>11460000</td>\n",
       "    </tr>\n",
       "    <tr>\n",
       "      <th>1970-01-07 00:00:00-05:00</th>\n",
       "      <td>0.000000</td>\n",
       "      <td>93.379997</td>\n",
       "      <td>91.930000</td>\n",
       "      <td>92.629997</td>\n",
       "      <td>92.629997</td>\n",
       "      <td>10010000</td>\n",
       "    </tr>\n",
       "    <tr>\n",
       "      <th>1970-01-08 00:00:00-05:00</th>\n",
       "      <td>0.000000</td>\n",
       "      <td>93.470001</td>\n",
       "      <td>91.989998</td>\n",
       "      <td>92.680000</td>\n",
       "      <td>92.680000</td>\n",
       "      <td>10670000</td>\n",
       "    </tr>\n",
       "    <tr>\n",
       "      <th>...</th>\n",
       "      <td>...</td>\n",
       "      <td>...</td>\n",
       "      <td>...</td>\n",
       "      <td>...</td>\n",
       "      <td>...</td>\n",
       "      <td>...</td>\n",
       "    </tr>\n",
       "    <tr>\n",
       "      <th>2023-01-30 00:00:00-05:00</th>\n",
       "      <td>4049.270020</td>\n",
       "      <td>4063.850098</td>\n",
       "      <td>4015.550049</td>\n",
       "      <td>4017.770020</td>\n",
       "      <td>4017.770020</td>\n",
       "      <td>3802000000</td>\n",
       "    </tr>\n",
       "    <tr>\n",
       "      <th>2023-01-31 00:00:00-05:00</th>\n",
       "      <td>4020.850098</td>\n",
       "      <td>4077.159912</td>\n",
       "      <td>4020.439941</td>\n",
       "      <td>4076.600098</td>\n",
       "      <td>4076.600098</td>\n",
       "      <td>4679320000</td>\n",
       "    </tr>\n",
       "    <tr>\n",
       "      <th>2023-02-01 00:00:00-05:00</th>\n",
       "      <td>4070.070068</td>\n",
       "      <td>4148.950195</td>\n",
       "      <td>4037.199951</td>\n",
       "      <td>4119.209961</td>\n",
       "      <td>4119.209961</td>\n",
       "      <td>4856930000</td>\n",
       "    </tr>\n",
       "    <tr>\n",
       "      <th>2023-02-02 00:00:00-05:00</th>\n",
       "      <td>4158.680176</td>\n",
       "      <td>4195.439941</td>\n",
       "      <td>4141.879883</td>\n",
       "      <td>4179.759766</td>\n",
       "      <td>4179.759766</td>\n",
       "      <td>5624360000</td>\n",
       "    </tr>\n",
       "    <tr>\n",
       "      <th>2023-02-03 00:00:00-05:00</th>\n",
       "      <td>4136.689941</td>\n",
       "      <td>4182.359863</td>\n",
       "      <td>4123.359863</td>\n",
       "      <td>4136.479980</td>\n",
       "      <td>4136.479980</td>\n",
       "      <td>4694510000</td>\n",
       "    </tr>\n",
       "  </tbody>\n",
       "</table>\n",
       "<p>13392 rows × 6 columns</p>\n",
       "</div>"
      ],
      "text/plain": [
       "                                  Open         High          Low        Close  \\\n",
       "Date                                                                            \n",
       "1970-01-02 00:00:00-05:00     0.000000    93.540001    91.790001    93.000000   \n",
       "1970-01-05 00:00:00-05:00     0.000000    94.250000    92.529999    93.459999   \n",
       "1970-01-06 00:00:00-05:00     0.000000    93.809998    92.129997    92.820000   \n",
       "1970-01-07 00:00:00-05:00     0.000000    93.379997    91.930000    92.629997   \n",
       "1970-01-08 00:00:00-05:00     0.000000    93.470001    91.989998    92.680000   \n",
       "...                                ...          ...          ...          ...   \n",
       "2023-01-30 00:00:00-05:00  4049.270020  4063.850098  4015.550049  4017.770020   \n",
       "2023-01-31 00:00:00-05:00  4020.850098  4077.159912  4020.439941  4076.600098   \n",
       "2023-02-01 00:00:00-05:00  4070.070068  4148.950195  4037.199951  4119.209961   \n",
       "2023-02-02 00:00:00-05:00  4158.680176  4195.439941  4141.879883  4179.759766   \n",
       "2023-02-03 00:00:00-05:00  4136.689941  4182.359863  4123.359863  4136.479980   \n",
       "\n",
       "                             Adj Close      Volume  \n",
       "Date                                                \n",
       "1970-01-02 00:00:00-05:00    93.000000     8050000  \n",
       "1970-01-05 00:00:00-05:00    93.459999    11490000  \n",
       "1970-01-06 00:00:00-05:00    92.820000    11460000  \n",
       "1970-01-07 00:00:00-05:00    92.629997    10010000  \n",
       "1970-01-08 00:00:00-05:00    92.680000    10670000  \n",
       "...                                ...         ...  \n",
       "2023-01-30 00:00:00-05:00  4017.770020  3802000000  \n",
       "2023-01-31 00:00:00-05:00  4076.600098  4679320000  \n",
       "2023-02-01 00:00:00-05:00  4119.209961  4856930000  \n",
       "2023-02-02 00:00:00-05:00  4179.759766  5624360000  \n",
       "2023-02-03 00:00:00-05:00  4136.479980  4694510000  \n",
       "\n",
       "[13392 rows x 6 columns]"
      ]
     },
     "execution_count": 8,
     "metadata": {},
     "output_type": "execute_result"
    }
   ],
   "source": [
    "data"
   ]
  },
  {
   "cell_type": "code",
   "execution_count": 9,
   "id": "143e7c48",
   "metadata": {},
   "outputs": [
    {
     "name": "stdout",
     "output_type": "stream",
     "text": [
      "['zdfz']JSWSTEEL.NS\n"
     ]
    }
   ],
   "source": [
    "stock_list=input(['zdfz'])"
   ]
  },
  {
   "cell_type": "code",
   "execution_count": 10,
   "id": "ce39b054",
   "metadata": {},
   "outputs": [
    {
     "data": {
      "text/plain": [
       "'JSWSTEEL.NS'"
      ]
     },
     "execution_count": 10,
     "metadata": {},
     "output_type": "execute_result"
    }
   ],
   "source": [
    "stock_list"
   ]
  },
  {
   "cell_type": "code",
   "execution_count": null,
   "id": "4ca1cc03",
   "metadata": {},
   "outputs": [],
   "source": [
    "start = 1900-01-01"
   ]
  },
  {
   "cell_type": "code",
   "execution_count": 15,
   "id": "8d3d3c48",
   "metadata": {},
   "outputs": [
    {
     "name": "stdout",
     "output_type": "stream",
     "text": [
      "[*********************100%***********************]  1 of 1 completed\n"
     ]
    }
   ],
   "source": [
    "df=pdr.get_data_yahoo(stock_list,start= '2020-01-01', end= '2022-01-01')"
   ]
  },
  {
   "cell_type": "code",
   "execution_count": 30,
   "id": "d94e218f",
   "metadata": {},
   "outputs": [
    {
     "data": {
      "text/html": [
       "<div>\n",
       "<style scoped>\n",
       "    .dataframe tbody tr th:only-of-type {\n",
       "        vertical-align: middle;\n",
       "    }\n",
       "\n",
       "    .dataframe tbody tr th {\n",
       "        vertical-align: top;\n",
       "    }\n",
       "\n",
       "    .dataframe thead th {\n",
       "        text-align: right;\n",
       "    }\n",
       "</style>\n",
       "<table border=\"1\" class=\"dataframe\">\n",
       "  <thead>\n",
       "    <tr style=\"text-align: right;\">\n",
       "      <th></th>\n",
       "      <th>Open</th>\n",
       "      <th>High</th>\n",
       "      <th>Low</th>\n",
       "      <th>Close</th>\n",
       "      <th>Adj Close</th>\n",
       "      <th>Volume</th>\n",
       "    </tr>\n",
       "    <tr>\n",
       "      <th>Date</th>\n",
       "      <th></th>\n",
       "      <th></th>\n",
       "      <th></th>\n",
       "      <th></th>\n",
       "      <th></th>\n",
       "      <th></th>\n",
       "    </tr>\n",
       "  </thead>\n",
       "  <tbody>\n",
       "    <tr>\n",
       "      <th>2020-01-01 00:00:00+05:30</th>\n",
       "      <td>270.700012</td>\n",
       "      <td>273.500000</td>\n",
       "      <td>265.850006</td>\n",
       "      <td>268.100006</td>\n",
       "      <td>241.922928</td>\n",
       "      <td>6952048</td>\n",
       "    </tr>\n",
       "    <tr>\n",
       "      <th>2020-01-02 00:00:00+05:30</th>\n",
       "      <td>272.000000</td>\n",
       "      <td>277.000000</td>\n",
       "      <td>271.549988</td>\n",
       "      <td>276.450012</td>\n",
       "      <td>249.457657</td>\n",
       "      <td>10780926</td>\n",
       "    </tr>\n",
       "    <tr>\n",
       "      <th>2020-01-03 00:00:00+05:30</th>\n",
       "      <td>276.450012</td>\n",
       "      <td>276.450012</td>\n",
       "      <td>270.750000</td>\n",
       "      <td>272.450012</td>\n",
       "      <td>245.848206</td>\n",
       "      <td>5943349</td>\n",
       "    </tr>\n",
       "    <tr>\n",
       "      <th>2020-01-06 00:00:00+05:30</th>\n",
       "      <td>270.500000</td>\n",
       "      <td>270.750000</td>\n",
       "      <td>262.299988</td>\n",
       "      <td>264.250000</td>\n",
       "      <td>238.448853</td>\n",
       "      <td>4529599</td>\n",
       "    </tr>\n",
       "    <tr>\n",
       "      <th>2020-01-07 00:00:00+05:30</th>\n",
       "      <td>266.149994</td>\n",
       "      <td>270.149994</td>\n",
       "      <td>263.100006</td>\n",
       "      <td>265.250000</td>\n",
       "      <td>239.351212</td>\n",
       "      <td>4465297</td>\n",
       "    </tr>\n",
       "  </tbody>\n",
       "</table>\n",
       "</div>"
      ],
      "text/plain": [
       "                                 Open        High         Low       Close  \\\n",
       "Date                                                                        \n",
       "2020-01-01 00:00:00+05:30  270.700012  273.500000  265.850006  268.100006   \n",
       "2020-01-02 00:00:00+05:30  272.000000  277.000000  271.549988  276.450012   \n",
       "2020-01-03 00:00:00+05:30  276.450012  276.450012  270.750000  272.450012   \n",
       "2020-01-06 00:00:00+05:30  270.500000  270.750000  262.299988  264.250000   \n",
       "2020-01-07 00:00:00+05:30  266.149994  270.149994  263.100006  265.250000   \n",
       "\n",
       "                            Adj Close    Volume  \n",
       "Date                                             \n",
       "2020-01-01 00:00:00+05:30  241.922928   6952048  \n",
       "2020-01-02 00:00:00+05:30  249.457657  10780926  \n",
       "2020-01-03 00:00:00+05:30  245.848206   5943349  \n",
       "2020-01-06 00:00:00+05:30  238.448853   4529599  \n",
       "2020-01-07 00:00:00+05:30  239.351212   4465297  "
      ]
     },
     "execution_count": 30,
     "metadata": {},
     "output_type": "execute_result"
    }
   ],
   "source": [
    "df.head()"
   ]
  },
  {
   "cell_type": "code",
   "execution_count": 23,
   "id": "89ab5082",
   "metadata": {},
   "outputs": [
    {
     "data": {
      "text/plain": [
       "datetime.date(2023, 2, 4)"
      ]
     },
     "execution_count": 23,
     "metadata": {},
     "output_type": "execute_result"
    }
   ],
   "source": [
    "from datetime import date\n",
    "t_date= date.today()\n",
    "t_date"
   ]
  },
  {
   "cell_type": "code",
   "execution_count": 26,
   "id": "ed090465",
   "metadata": {},
   "outputs": [
    {
     "data": {
      "text/plain": [
       "'2023-02-04'"
      ]
     },
     "execution_count": 26,
     "metadata": {},
     "output_type": "execute_result"
    }
   ],
   "source": [
    "s_t_date= str(t_date)\n",
    "s_t_date"
   ]
  },
  {
   "cell_type": "code",
   "execution_count": 33,
   "id": "d9a975d5",
   "metadata": {},
   "outputs": [
    {
     "name": "stdout",
     "output_type": "stream",
     "text": [
      "[*********************100%***********************]  1 of 1 completed\n"
     ]
    }
   ],
   "source": [
    "df=pdr.get_data_yahoo('AAPL',start= '2023-01-01', end= s_t_date)"
   ]
  },
  {
   "cell_type": "code",
   "execution_count": 35,
   "id": "3a8b4508",
   "metadata": {},
   "outputs": [
    {
     "data": {
      "text/html": [
       "<div>\n",
       "<style scoped>\n",
       "    .dataframe tbody tr th:only-of-type {\n",
       "        vertical-align: middle;\n",
       "    }\n",
       "\n",
       "    .dataframe tbody tr th {\n",
       "        vertical-align: top;\n",
       "    }\n",
       "\n",
       "    .dataframe thead th {\n",
       "        text-align: right;\n",
       "    }\n",
       "</style>\n",
       "<table border=\"1\" class=\"dataframe\">\n",
       "  <thead>\n",
       "    <tr style=\"text-align: right;\">\n",
       "      <th></th>\n",
       "      <th>Open</th>\n",
       "      <th>High</th>\n",
       "      <th>Low</th>\n",
       "      <th>Close</th>\n",
       "      <th>Adj Close</th>\n",
       "      <th>Volume</th>\n",
       "    </tr>\n",
       "    <tr>\n",
       "      <th>Date</th>\n",
       "      <th></th>\n",
       "      <th></th>\n",
       "      <th></th>\n",
       "      <th></th>\n",
       "      <th></th>\n",
       "      <th></th>\n",
       "    </tr>\n",
       "  </thead>\n",
       "  <tbody>\n",
       "    <tr>\n",
       "      <th>2023-01-30 00:00:00-05:00</th>\n",
       "      <td>144.960007</td>\n",
       "      <td>145.550003</td>\n",
       "      <td>142.850006</td>\n",
       "      <td>143.000000</td>\n",
       "      <td>143.000000</td>\n",
       "      <td>64015300</td>\n",
       "    </tr>\n",
       "    <tr>\n",
       "      <th>2023-01-31 00:00:00-05:00</th>\n",
       "      <td>142.699997</td>\n",
       "      <td>144.339996</td>\n",
       "      <td>142.279999</td>\n",
       "      <td>144.289993</td>\n",
       "      <td>144.289993</td>\n",
       "      <td>65874500</td>\n",
       "    </tr>\n",
       "    <tr>\n",
       "      <th>2023-02-01 00:00:00-05:00</th>\n",
       "      <td>143.970001</td>\n",
       "      <td>146.610001</td>\n",
       "      <td>141.320007</td>\n",
       "      <td>145.429993</td>\n",
       "      <td>145.429993</td>\n",
       "      <td>77663600</td>\n",
       "    </tr>\n",
       "    <tr>\n",
       "      <th>2023-02-02 00:00:00-05:00</th>\n",
       "      <td>148.899994</td>\n",
       "      <td>151.179993</td>\n",
       "      <td>148.169998</td>\n",
       "      <td>150.820007</td>\n",
       "      <td>150.820007</td>\n",
       "      <td>118339000</td>\n",
       "    </tr>\n",
       "    <tr>\n",
       "      <th>2023-02-03 00:00:00-05:00</th>\n",
       "      <td>148.029999</td>\n",
       "      <td>157.380005</td>\n",
       "      <td>147.830002</td>\n",
       "      <td>154.500000</td>\n",
       "      <td>154.500000</td>\n",
       "      <td>154279900</td>\n",
       "    </tr>\n",
       "  </tbody>\n",
       "</table>\n",
       "</div>"
      ],
      "text/plain": [
       "                                 Open        High         Low       Close  \\\n",
       "Date                                                                        \n",
       "2023-01-30 00:00:00-05:00  144.960007  145.550003  142.850006  143.000000   \n",
       "2023-01-31 00:00:00-05:00  142.699997  144.339996  142.279999  144.289993   \n",
       "2023-02-01 00:00:00-05:00  143.970001  146.610001  141.320007  145.429993   \n",
       "2023-02-02 00:00:00-05:00  148.899994  151.179993  148.169998  150.820007   \n",
       "2023-02-03 00:00:00-05:00  148.029999  157.380005  147.830002  154.500000   \n",
       "\n",
       "                            Adj Close     Volume  \n",
       "Date                                              \n",
       "2023-01-30 00:00:00-05:00  143.000000   64015300  \n",
       "2023-01-31 00:00:00-05:00  144.289993   65874500  \n",
       "2023-02-01 00:00:00-05:00  145.429993   77663600  \n",
       "2023-02-02 00:00:00-05:00  150.820007  118339000  \n",
       "2023-02-03 00:00:00-05:00  154.500000  154279900  "
      ]
     },
     "execution_count": 35,
     "metadata": {},
     "output_type": "execute_result"
    }
   ],
   "source": [
    "df.tail()"
   ]
  },
  {
   "cell_type": "code",
   "execution_count": null,
   "id": "4bb36d68",
   "metadata": {},
   "outputs": [],
   "source": []
  }
 ],
 "metadata": {
  "kernelspec": {
   "display_name": "Python 3 (ipykernel)",
   "language": "python",
   "name": "python3"
  },
  "language_info": {
   "codemirror_mode": {
    "name": "ipython",
    "version": 3
   },
   "file_extension": ".py",
   "mimetype": "text/x-python",
   "name": "python",
   "nbconvert_exporter": "python",
   "pygments_lexer": "ipython3",
   "version": "3.9.13"
  }
 },
 "nbformat": 4,
 "nbformat_minor": 5
}
